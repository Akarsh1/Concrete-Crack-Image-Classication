{
  "nbformat": 4,
  "nbformat_minor": 0,
  "metadata": {
    "accelerator": "GPU",
    "colab": {
      "name": "Concrete_Cracks_Classification.ipynb",
      "provenance": [],
      "collapsed_sections": []
    },
    "kernelspec": {
      "display_name": "Python 3",
      "name": "python3"
    }
  },
  "cells": [
    {
      "cell_type": "code",
      "metadata": {
        "colab": {
          "base_uri": "https://localhost:8080/"
        },
        "id": "m6ERxMRAgytB",
        "outputId": "17528a4a-cd8e-45f9-966b-06d8447d3492"
      },
      "source": [
        "# Downlaoding data in Colab\r\n",
        "\r\n",
        "from google_drive_downloader import GoogleDriveDownloader as gdd\r\n",
        "gdd.download_file_from_google_drive(file_id='1ZKrbsUlrsTgJSlFMz2EGmTINFCQ8PcjO',dest_path='content/concrete_crack_data.zip',\r\n",
        "unzip=True)"
      ],
      "execution_count": 1,
      "outputs": [
        {
          "output_type": "stream",
          "text": [
            "Downloading 1ZKrbsUlrsTgJSlFMz2EGmTINFCQ8PcjO into content/concrete_crack_data.zip... Done.\n",
            "Unzipping...Done.\n"
          ],
          "name": "stdout"
        }
      ]
    },
    {
      "cell_type": "code",
      "metadata": {
        "id": "6ZyvFFwijEMn"
      },
      "source": [
        "# Importing Libraries\r\n",
        "import numpy as np\r\n",
        "import pandas as pd\r\n",
        "import matplotlib.pyplot as plt\r\n",
        "%matplotlib inline\r\n",
        "import os\r\n",
        "import cv2\r\n",
        "from sklearn.model_selection import train_test_split\r\n",
        "from keras.optimizers import Adam\r\n",
        "from tqdm import tqdm\r\n",
        "from keras.models import Sequential\r\n",
        "from keras.layers import Dense, Dropout, Flatten\r\n",
        "from keras import applications\r\n",
        "from keras.applications import Xception\r\n",
        "from keras.models import Model\r\n",
        "from keras import optimizers\r\n",
        "from keras.preprocessing.image import ImageDataGenerator\r\n",
        "import tensorflow as tf"
      ],
      "execution_count": 2,
      "outputs": []
    },
    {
      "cell_type": "code",
      "metadata": {
        "colab": {
          "base_uri": "https://localhost:8080/"
        },
        "id": "3CYwoNtkjEPv",
        "outputId": "9767112d-f11a-488f-c589-55e685cedb4d"
      },
      "source": [
        "# Preprocessing and loading training data\r\n",
        "data = []\r\n",
        "img_size=80\r\n",
        "def create_data():\r\n",
        "  for item in tqdm(['Negative','Positive']):\r\n",
        "    path = '/content/content/concrete_cracked_images/train/'+item+\"/\"\r\n",
        "    for img in tqdm(os.listdir(path)):\r\n",
        "      try:\r\n",
        "        img_array = cv2.imread(os.path.join(path,img),cv2.IMREAD_COLOR)\r\n",
        "        new_img_array = cv2.resize(img_array,(img_size,img_size))\r\n",
        "        if item == 'Negative':\r\n",
        "          data.append([new_img_array,0])\r\n",
        "        else:\r\n",
        "          data.append([new_img_array,1])\r\n",
        "      except Exception as e:\r\n",
        "        pass\r\n",
        "\r\n",
        "create_data()"
      ],
      "execution_count": 3,
      "outputs": [
        {
          "output_type": "stream",
          "text": [
            "  0%|          | 0/2 [00:00<?, ?it/s]\n",
            "  0%|          | 0/13818 [00:00<?, ?it/s]\u001b[A\n",
            "  1%|          | 98/13818 [00:00<00:14, 977.55it/s]\u001b[A\n",
            "  2%|▏         | 237/13818 [00:00<00:12, 1072.37it/s]\u001b[A\n",
            "  3%|▎         | 377/13818 [00:00<00:11, 1153.19it/s]\u001b[A\n",
            "  4%|▍         | 521/13818 [00:00<00:10, 1224.56it/s]\u001b[A\n",
            "  5%|▍         | 656/13818 [00:00<00:10, 1259.37it/s]\u001b[A\n",
            "  6%|▌         | 800/13818 [00:00<00:09, 1306.63it/s]\u001b[A\n",
            "  7%|▋         | 942/13818 [00:00<00:09, 1336.59it/s]\u001b[A\n",
            "  8%|▊         | 1086/13818 [00:00<00:09, 1365.52it/s]\u001b[A\n",
            "  9%|▉         | 1219/13818 [00:00<00:09, 1326.52it/s]\u001b[A\n",
            " 10%|▉         | 1360/13818 [00:01<00:09, 1350.26it/s]\u001b[A\n",
            " 11%|█         | 1503/13818 [00:01<00:08, 1372.00it/s]\u001b[A\n",
            " 12%|█▏        | 1645/13818 [00:01<00:08, 1384.02it/s]\u001b[A\n",
            " 13%|█▎        | 1783/13818 [00:01<00:08, 1362.99it/s]\u001b[A\n",
            " 14%|█▍        | 1919/13818 [00:01<00:08, 1360.10it/s]\u001b[A\n",
            " 15%|█▍        | 2056/13818 [00:01<00:08, 1361.44it/s]\u001b[A\n",
            " 16%|█▌        | 2194/13818 [00:01<00:08, 1363.85it/s]\u001b[A\n",
            " 17%|█▋        | 2332/13818 [00:01<00:08, 1368.36it/s]\u001b[A\n",
            " 18%|█▊        | 2471/13818 [00:01<00:08, 1370.08it/s]\u001b[A\n",
            " 19%|█▉        | 2608/13818 [00:01<00:08, 1367.58it/s]\u001b[A\n",
            " 20%|█▉        | 2749/13818 [00:02<00:08, 1378.10it/s]\u001b[A\n",
            " 21%|██        | 2887/13818 [00:02<00:08, 1363.63it/s]\u001b[A\n",
            " 22%|██▏       | 3026/13818 [00:02<00:07, 1369.74it/s]\u001b[A\n",
            " 23%|██▎       | 3169/13818 [00:02<00:07, 1384.95it/s]\u001b[A\n",
            " 24%|██▍       | 3309/13818 [00:02<00:07, 1387.60it/s]\u001b[A\n",
            " 25%|██▍       | 3448/13818 [00:02<00:07, 1354.25it/s]\u001b[A\n",
            " 26%|██▌       | 3591/13818 [00:02<00:07, 1373.86it/s]\u001b[A\n",
            " 27%|██▋       | 3732/13818 [00:02<00:07, 1384.18it/s]\u001b[A\n",
            " 28%|██▊       | 3871/13818 [00:02<00:07, 1381.61it/s]\u001b[A\n",
            " 29%|██▉       | 4013/13818 [00:02<00:07, 1391.95it/s]\u001b[A\n",
            " 30%|███       | 4158/13818 [00:03<00:06, 1406.67it/s]\u001b[A\n",
            " 31%|███       | 4301/13818 [00:03<00:06, 1410.95it/s]\u001b[A\n",
            " 32%|███▏      | 4443/13818 [00:03<00:06, 1403.90it/s]\u001b[A\n",
            " 33%|███▎      | 4587/13818 [00:03<00:06, 1413.07it/s]\u001b[A\n",
            " 34%|███▍      | 4729/13818 [00:03<00:06, 1414.32it/s]\u001b[A\n",
            " 35%|███▌      | 4871/13818 [00:03<00:06, 1397.55it/s]\u001b[A\n",
            " 36%|███▋      | 5011/13818 [00:03<00:06, 1376.74it/s]\u001b[A\n",
            " 37%|███▋      | 5149/13818 [00:03<00:06, 1377.04it/s]\u001b[A\n",
            " 38%|███▊      | 5292/13818 [00:03<00:06, 1391.75it/s]\u001b[A\n",
            " 39%|███▉      | 5432/13818 [00:03<00:06, 1390.19it/s]\u001b[A\n",
            " 40%|████      | 5575/13818 [00:04<00:05, 1401.67it/s]\u001b[A\n",
            " 41%|████▏     | 5719/13818 [00:04<00:05, 1412.82it/s]\u001b[A\n",
            " 42%|████▏     | 5861/13818 [00:04<00:05, 1411.54it/s]\u001b[A\n",
            " 43%|████▎     | 6003/13818 [00:04<00:05, 1405.71it/s]\u001b[A\n",
            " 44%|████▍     | 6144/13818 [00:04<00:05, 1406.12it/s]\u001b[A\n",
            " 45%|████▌     | 6285/13818 [00:04<00:05, 1392.71it/s]\u001b[A\n",
            " 47%|████▋     | 6429/13818 [00:04<00:05, 1404.37it/s]\u001b[A\n",
            " 48%|████▊     | 6570/13818 [00:04<00:05, 1392.81it/s]\u001b[A\n",
            " 49%|████▊     | 6713/13818 [00:04<00:05, 1401.68it/s]\u001b[A\n",
            " 50%|████▉     | 6855/13818 [00:04<00:04, 1404.76it/s]\u001b[A\n",
            " 51%|█████     | 6999/13818 [00:05<00:04, 1414.71it/s]\u001b[A\n",
            " 52%|█████▏    | 7141/13818 [00:05<00:04, 1402.04it/s]\u001b[A\n",
            " 53%|█████▎    | 7284/13818 [00:05<00:04, 1408.80it/s]\u001b[A\n",
            " 54%|█████▍    | 7428/13818 [00:05<00:04, 1417.85it/s]\u001b[A\n",
            " 55%|█████▍    | 7572/13818 [00:05<00:04, 1421.98it/s]\u001b[A\n",
            " 56%|█████▌    | 7715/13818 [00:05<00:04, 1391.90it/s]\u001b[A\n",
            " 57%|█████▋    | 7857/13818 [00:05<00:04, 1397.52it/s]\u001b[A\n",
            " 58%|█████▊    | 8001/13818 [00:05<00:04, 1407.20it/s]\u001b[A\n",
            " 59%|█████▉    | 8144/13818 [00:05<00:04, 1411.13it/s]\u001b[A\n",
            " 60%|█████▉    | 8286/13818 [00:05<00:04, 1379.33it/s]\u001b[A\n",
            " 61%|██████    | 8426/13818 [00:06<00:03, 1385.12it/s]\u001b[A\n",
            " 62%|██████▏   | 8568/13818 [00:06<00:03, 1394.24it/s]\u001b[A\n",
            " 63%|██████▎   | 8708/13818 [00:06<00:03, 1380.18it/s]\u001b[A\n",
            " 64%|██████▍   | 8847/13818 [00:06<00:03, 1367.30it/s]\u001b[A\n",
            " 65%|██████▌   | 8988/13818 [00:06<00:03, 1379.37it/s]\u001b[A\n",
            " 66%|██████▌   | 9127/13818 [00:06<00:03, 1368.14it/s]\u001b[A\n",
            " 67%|██████▋   | 9264/13818 [00:06<00:03, 1365.62it/s]\u001b[A\n",
            " 68%|██████▊   | 9409/13818 [00:06<00:03, 1387.75it/s]\u001b[A\n",
            " 69%|██████▉   | 9548/13818 [00:06<00:03, 1374.81it/s]\u001b[A\n",
            " 70%|███████   | 9688/13818 [00:07<00:02, 1379.63it/s]\u001b[A\n",
            " 71%|███████   | 9831/13818 [00:07<00:02, 1394.34it/s]\u001b[A\n",
            " 72%|███████▏  | 9975/13818 [00:07<00:02, 1405.58it/s]\u001b[A\n",
            " 73%|███████▎  | 10118/13818 [00:07<00:02, 1411.13it/s]\u001b[A\n",
            " 74%|███████▍  | 10260/13818 [00:07<00:02, 1400.98it/s]\u001b[A\n",
            " 75%|███████▌  | 10404/13818 [00:07<00:02, 1410.41it/s]\u001b[A\n",
            " 76%|███████▋  | 10546/13818 [00:07<00:02, 1400.00it/s]\u001b[A\n",
            " 77%|███████▋  | 10689/13818 [00:07<00:02, 1407.41it/s]\u001b[A\n",
            " 78%|███████▊  | 10830/13818 [00:07<00:02, 1387.75it/s]\u001b[A\n",
            " 79%|███████▉  | 10969/13818 [00:07<00:02, 1368.85it/s]\u001b[A\n",
            " 80%|████████  | 11107/13818 [00:08<00:02, 1338.44it/s]\u001b[A\n",
            " 81%|████████▏ | 11242/13818 [00:08<00:01, 1340.40it/s]\u001b[A\n",
            " 82%|████████▏ | 11379/13818 [00:08<00:01, 1346.50it/s]\u001b[A\n",
            " 83%|████████▎ | 11514/13818 [00:08<00:01, 1318.29it/s]\u001b[A\n",
            " 84%|████████▍ | 11648/13818 [00:08<00:01, 1324.55it/s]\u001b[A\n",
            " 85%|████████▌ | 11781/13818 [00:08<00:01, 1324.04it/s]\u001b[A\n",
            " 86%|████████▌ | 11916/13818 [00:08<00:01, 1331.28it/s]\u001b[A\n",
            " 87%|████████▋ | 12050/13818 [00:08<00:01, 1328.70it/s]\u001b[A\n",
            " 88%|████████▊ | 12192/13818 [00:08<00:01, 1353.08it/s]\u001b[A\n",
            " 89%|████████▉ | 12335/13818 [00:08<00:01, 1373.39it/s]\u001b[A\n",
            " 90%|█████████ | 12473/13818 [00:09<00:00, 1364.16it/s]\u001b[A\n",
            " 91%|█████████▏| 12610/13818 [00:09<00:00, 1364.65it/s]\u001b[A\n",
            " 92%|█████████▏| 12754/13818 [00:09<00:00, 1384.26it/s]\u001b[A\n",
            " 93%|█████████▎| 12897/13818 [00:09<00:00, 1396.63it/s]\u001b[A\n",
            " 94%|█████████▍| 13037/13818 [00:09<00:00, 1388.62it/s]\u001b[A\n",
            " 95%|█████████▌| 13176/13818 [00:09<00:00, 1387.58it/s]\u001b[A\n",
            " 96%|█████████▋| 13315/13818 [00:09<00:00, 1383.41it/s]\u001b[A\n",
            " 97%|█████████▋| 13454/13818 [00:09<00:00, 1354.53it/s]\u001b[A\n",
            " 98%|█████████▊| 13590/13818 [00:09<00:00, 1352.92it/s]\u001b[A\n",
            "100%|██████████| 13818/13818 [00:10<00:00, 1378.97it/s]\n",
            " 50%|█████     | 1/2 [00:10<00:10, 10.04s/it]\n",
            "  0%|          | 0/14900 [00:00<?, ?it/s]\u001b[A\n",
            "  1%|          | 120/14900 [00:00<00:12, 1198.00it/s]\u001b[A\n",
            "  2%|▏         | 257/14900 [00:00<00:11, 1243.73it/s]\u001b[A\n",
            "  3%|▎         | 393/14900 [00:00<00:11, 1275.10it/s]\u001b[A\n",
            "  4%|▎         | 528/14900 [00:00<00:11, 1296.29it/s]\u001b[A\n",
            "  4%|▍         | 662/14900 [00:00<00:10, 1307.95it/s]\u001b[A\n",
            "  5%|▌         | 792/14900 [00:00<00:10, 1304.93it/s]\u001b[A\n",
            "  6%|▌         | 927/14900 [00:00<00:10, 1317.93it/s]\u001b[A\n",
            "  7%|▋         | 1065/14900 [00:00<00:10, 1335.67it/s]\u001b[A\n",
            "  8%|▊         | 1199/14900 [00:00<00:10, 1334.89it/s]\u001b[A\n",
            "  9%|▉         | 1336/14900 [00:01<00:10, 1345.18it/s]\u001b[A\n",
            " 10%|▉         | 1475/14900 [00:01<00:09, 1355.96it/s]\u001b[A\n",
            " 11%|█         | 1612/14900 [00:01<00:09, 1358.33it/s]\u001b[A\n",
            " 12%|█▏        | 1747/14900 [00:01<00:09, 1329.93it/s]\u001b[A\n",
            " 13%|█▎        | 1883/14900 [00:01<00:09, 1336.66it/s]\u001b[A\n",
            " 14%|█▎        | 2016/14900 [00:01<00:09, 1314.39it/s]\u001b[A\n",
            " 14%|█▍        | 2148/14900 [00:01<00:09, 1303.55it/s]\u001b[A\n",
            " 15%|█▌        | 2285/14900 [00:01<00:09, 1322.36it/s]\u001b[A\n",
            " 16%|█▌        | 2418/14900 [00:01<00:09, 1277.98it/s]\u001b[A\n",
            " 17%|█▋        | 2555/14900 [00:01<00:09, 1302.61it/s]\u001b[A\n",
            " 18%|█▊        | 2694/14900 [00:02<00:09, 1324.64it/s]\u001b[A\n",
            " 19%|█▉        | 2827/14900 [00:02<00:09, 1311.32it/s]\u001b[A\n",
            " 20%|█▉        | 2964/14900 [00:02<00:08, 1328.27it/s]\u001b[A\n",
            " 21%|██        | 3102/14900 [00:02<00:08, 1340.59it/s]\u001b[A\n",
            " 22%|██▏       | 3237/14900 [00:02<00:08, 1319.90it/s]\u001b[A\n",
            " 23%|██▎       | 3376/14900 [00:02<00:08, 1337.48it/s]\u001b[A\n",
            " 24%|██▎       | 3510/14900 [00:02<00:08, 1333.40it/s]\u001b[A\n",
            " 24%|██▍       | 3644/14900 [00:02<00:08, 1332.17it/s]\u001b[A\n",
            " 25%|██▌       | 3781/14900 [00:02<00:08, 1340.70it/s]\u001b[A\n",
            " 26%|██▋       | 3920/14900 [00:02<00:08, 1353.63it/s]\u001b[A\n",
            " 27%|██▋       | 4056/14900 [00:03<00:08, 1337.34it/s]\u001b[A\n",
            " 28%|██▊       | 4190/14900 [00:03<00:08, 1337.42it/s]\u001b[A\n",
            " 29%|██▉       | 4329/14900 [00:03<00:07, 1350.25it/s]\u001b[A\n",
            " 30%|██▉       | 4467/14900 [00:03<00:07, 1356.45it/s]\u001b[A\n",
            " 31%|███       | 4605/14900 [00:03<00:07, 1360.62it/s]\u001b[A\n",
            " 32%|███▏      | 4742/14900 [00:03<00:07, 1357.51it/s]\u001b[A\n",
            " 33%|███▎      | 4878/14900 [00:03<00:07, 1312.18it/s]\u001b[A\n",
            " 34%|███▎      | 5016/14900 [00:03<00:07, 1329.37it/s]\u001b[A\n",
            " 35%|███▍      | 5151/14900 [00:03<00:07, 1335.33it/s]\u001b[A\n",
            " 35%|███▌      | 5289/14900 [00:03<00:07, 1346.12it/s]\u001b[A\n",
            " 36%|███▋      | 5424/14900 [00:04<00:07, 1329.81it/s]\u001b[A\n",
            " 37%|███▋      | 5561/14900 [00:04<00:06, 1338.96it/s]\u001b[A\n",
            " 38%|███▊      | 5698/14900 [00:04<00:06, 1347.30it/s]\u001b[A\n",
            " 39%|███▉      | 5833/14900 [00:04<00:06, 1327.61it/s]\u001b[A\n",
            " 40%|████      | 5966/14900 [00:04<00:06, 1318.60it/s]\u001b[A\n",
            " 41%|████      | 6098/14900 [00:04<00:07, 1229.41it/s]\u001b[A\n",
            " 42%|████▏     | 6223/14900 [00:04<00:07, 1221.08it/s]\u001b[A\n",
            " 43%|████▎     | 6354/14900 [00:04<00:06, 1246.13it/s]\u001b[A\n",
            " 44%|████▎     | 6482/14900 [00:04<00:06, 1255.04it/s]\u001b[A\n",
            " 44%|████▍     | 6609/14900 [00:05<00:06, 1254.90it/s]\u001b[A\n",
            " 45%|████▌     | 6741/14900 [00:05<00:06, 1271.58it/s]\u001b[A\n",
            " 46%|████▌     | 6871/14900 [00:05<00:06, 1278.00it/s]\u001b[A\n",
            " 47%|████▋     | 7000/14900 [00:05<00:06, 1245.14it/s]\u001b[A\n",
            " 48%|████▊     | 7130/14900 [00:05<00:06, 1259.41it/s]\u001b[A\n",
            " 49%|████▊     | 7259/14900 [00:05<00:06, 1265.62it/s]\u001b[A\n",
            " 50%|████▉     | 7386/14900 [00:05<00:06, 1251.82it/s]\u001b[A\n",
            " 50%|█████     | 7512/14900 [00:05<00:06, 1212.46it/s]\u001b[A\n",
            " 51%|█████▏    | 7639/14900 [00:05<00:05, 1226.75it/s]\u001b[A\n",
            " 52%|█████▏    | 7772/14900 [00:05<00:05, 1253.65it/s]\u001b[A\n",
            " 53%|█████▎    | 7909/14900 [00:06<00:05, 1284.16it/s]\u001b[A\n",
            " 54%|█████▍    | 8043/14900 [00:06<00:05, 1299.98it/s]\u001b[A\n",
            " 55%|█████▍    | 8180/14900 [00:06<00:05, 1318.38it/s]\u001b[A\n",
            " 56%|█████▌    | 8316/14900 [00:06<00:04, 1329.79it/s]\u001b[A\n",
            " 57%|█████▋    | 8450/14900 [00:06<00:04, 1330.41it/s]\u001b[A\n",
            " 58%|█████▊    | 8588/14900 [00:06<00:04, 1344.48it/s]\u001b[A\n",
            " 59%|█████▊    | 8723/14900 [00:06<00:04, 1327.29it/s]\u001b[A\n",
            " 59%|█████▉    | 8859/14900 [00:06<00:04, 1336.08it/s]\u001b[A\n",
            " 60%|██████    | 8993/14900 [00:06<00:04, 1297.57it/s]\u001b[A\n",
            " 61%|██████    | 9124/14900 [00:06<00:04, 1260.87it/s]\u001b[A\n",
            " 62%|██████▏   | 9260/14900 [00:07<00:04, 1286.64it/s]\u001b[A\n",
            " 63%|██████▎   | 9398/14900 [00:07<00:04, 1312.23it/s]\u001b[A\n",
            " 64%|██████▍   | 9535/14900 [00:07<00:04, 1327.73it/s]\u001b[A\n",
            " 65%|██████▍   | 9669/14900 [00:07<00:03, 1328.56it/s]\u001b[A\n",
            " 66%|██████▌   | 9807/14900 [00:07<00:03, 1340.70it/s]\u001b[A\n",
            " 67%|██████▋   | 9947/14900 [00:07<00:03, 1355.74it/s]\u001b[A\n",
            " 68%|██████▊   | 10083/14900 [00:07<00:03, 1336.66it/s]\u001b[A\n",
            " 69%|██████▊   | 10217/14900 [00:07<00:03, 1318.43it/s]\u001b[A\n",
            " 69%|██████▉   | 10352/14900 [00:07<00:03, 1325.51it/s]\u001b[A\n",
            " 70%|███████   | 10485/14900 [00:07<00:03, 1319.10it/s]\u001b[A\n",
            " 71%|███████▏  | 10618/14900 [00:08<00:03, 1316.98it/s]\u001b[A\n",
            " 72%|███████▏  | 10757/14900 [00:08<00:03, 1336.62it/s]\u001b[A\n",
            " 73%|███████▎  | 10891/14900 [00:08<00:03, 1330.56it/s]\u001b[A\n",
            " 74%|███████▍  | 11028/14900 [00:08<00:02, 1340.51it/s]\u001b[A\n",
            " 75%|███████▍  | 11164/14900 [00:08<00:02, 1346.06it/s]\u001b[A\n",
            " 76%|███████▌  | 11302/14900 [00:08<00:02, 1355.39it/s]\u001b[A\n",
            " 77%|███████▋  | 11438/14900 [00:08<00:02, 1332.09it/s]\u001b[A\n",
            " 78%|███████▊  | 11574/14900 [00:08<00:02, 1338.17it/s]\u001b[A\n",
            " 79%|███████▊  | 11713/14900 [00:08<00:02, 1351.18it/s]\u001b[A\n",
            " 80%|███████▉  | 11849/14900 [00:08<00:02, 1342.10it/s]\u001b[A\n",
            " 80%|████████  | 11984/14900 [00:09<00:02, 1327.20it/s]\u001b[A\n",
            " 81%|████████▏ | 12121/14900 [00:09<00:02, 1337.57it/s]\u001b[A\n",
            " 82%|████████▏ | 12259/14900 [00:09<00:01, 1348.82it/s]\u001b[A\n",
            " 83%|████████▎ | 12398/14900 [00:09<00:01, 1359.77it/s]\u001b[A\n",
            " 84%|████████▍ | 12535/14900 [00:09<00:01, 1353.73it/s]\u001b[A\n",
            " 85%|████████▌ | 12673/14900 [00:09<00:01, 1358.94it/s]\u001b[A\n",
            " 86%|████████▌ | 12809/14900 [00:09<00:01, 1344.79it/s]\u001b[A\n",
            " 87%|████████▋ | 12946/14900 [00:09<00:01, 1351.53it/s]\u001b[A\n",
            " 88%|████████▊ | 13082/14900 [00:09<00:01, 1347.86it/s]\u001b[A\n",
            " 89%|████████▊ | 13218/14900 [00:10<00:01, 1350.71it/s]\u001b[A\n",
            " 90%|████████▉ | 13354/14900 [00:10<00:01, 1334.52it/s]\u001b[A\n",
            " 91%|█████████ | 13488/14900 [00:10<00:01, 1282.40it/s]\u001b[A\n",
            " 91%|█████████▏| 13617/14900 [00:10<00:01, 1275.98it/s]\u001b[A\n",
            " 92%|█████████▏| 13747/14900 [00:10<00:00, 1280.84it/s]\u001b[A\n",
            " 93%|█████████▎| 13876/14900 [00:10<00:00, 1265.96it/s]\u001b[A\n",
            " 94%|█████████▍| 14010/14900 [00:10<00:00, 1286.72it/s]\u001b[A\n",
            " 95%|█████████▍| 14140/14900 [00:10<00:00, 1288.31it/s]\u001b[A\n",
            " 96%|█████████▌| 14275/14900 [00:10<00:00, 1303.85it/s]\u001b[A\n",
            " 97%|█████████▋| 14406/14900 [00:10<00:00, 1293.97it/s]\u001b[A\n",
            " 98%|█████████▊| 14537/14900 [00:11<00:00, 1296.24it/s]\u001b[A\n",
            " 98%|█████████▊| 14670/14900 [00:11<00:00, 1304.91it/s]\u001b[A\n",
            "100%|██████████| 14900/14900 [00:11<00:00, 1316.93it/s]\n",
            "100%|██████████| 2/2 [00:21<00:00, 10.68s/it]\n"
          ],
          "name": "stderr"
        }
      ]
    },
    {
      "cell_type": "code",
      "metadata": {
        "colab": {
          "base_uri": "https://localhost:8080/"
        },
        "id": "cLscAwIQjES_",
        "outputId": "b2954600-88bc-471e-e2e3-1f0fdc28da65"
      },
      "source": [
        "# Total number of images in Training data\r\n",
        "print(\"Total number of Training images are: {}\".format(len(data)))"
      ],
      "execution_count": 4,
      "outputs": [
        {
          "output_type": "stream",
          "text": [
            "Total number of Training images are: 28718\n"
          ],
          "name": "stdout"
        }
      ]
    },
    {
      "cell_type": "code",
      "metadata": {
        "id": "aTIFziRPjEVB"
      },
      "source": [
        "# Seperating images and labels\r\n",
        "\r\n",
        "x = []\r\n",
        "y = []\r\n",
        "for image in data:\r\n",
        "  x.append(image[0])\r\n",
        "  y.append(image[1])\r\n",
        "\r\n",
        "# Converting into float array\r\n",
        "x = np.array(x,np.float32)/255 # Performing Scaling\r\n",
        "y = np.array(y)\r\n"
      ],
      "execution_count": 5,
      "outputs": []
    },
    {
      "cell_type": "code",
      "metadata": {
        "colab": {
          "base_uri": "https://localhost:8080/"
        },
        "id": "WjRNhvn2jElt",
        "outputId": "d011e13a-cb6f-4ff7-de3d-a721762d19cf"
      },
      "source": [
        "np.unique(y,return_counts=True)"
      ],
      "execution_count": null,
      "outputs": [
        {
          "output_type": "execute_result",
          "data": {
            "text/plain": [
              "(array([0, 1]), array([13818, 14900]))"
            ]
          },
          "metadata": {
            "tags": []
          },
          "execution_count": 6
        }
      ]
    },
    {
      "cell_type": "code",
      "metadata": {
        "colab": {
          "base_uri": "https://localhost:8080/",
          "height": 285
        },
        "id": "bunz07ZSrM7X",
        "outputId": "0ed03714-cfa8-4f4a-9699-526919403db6"
      },
      "source": [
        "#Visualizing Image\r\n",
        "index =20000\r\n",
        "plt.imshow(x[index])"
      ],
      "execution_count": null,
      "outputs": [
        {
          "output_type": "execute_result",
          "data": {
            "text/plain": [
              "<matplotlib.image.AxesImage at 0x7f961fd17160>"
            ]
          },
          "metadata": {
            "tags": []
          },
          "execution_count": 6
        },
        {
          "output_type": "display_data",
          "data": {
            "image/png": "[encoded data removed]",
            "text/plain": [
              "<Figure size 432x288 with 1 Axes>"
            ]
          },
          "metadata": {
            "tags": []
          }
        }
      ]
    },
    {
      "cell_type": "code",
      "metadata": {
        "colab": {
          "base_uri": "https://localhost:8080/",
          "height": 285
        },
        "id": "8jlSBvvCrM99",
        "outputId": "5de0da32-dc53-4621-cef0-54c846ab2428"
      },
      "source": [
        "# Performing Standardization on training set\r\n",
        "mean_img = np.mean(x,axis=0)\r\n",
        "plt.imshow(mean_img)"
      ],
      "execution_count": 6,
      "outputs": [
        {
          "output_type": "execute_result",
          "data": {
            "text/plain": [
              "<matplotlib.image.AxesImage at 0x7fbc79e21e10>"
            ]
          },
          "metadata": {
            "tags": []
          },
          "execution_count": 6
        },
        {
          "output_type": "display_data",
          "data": {
            "image/png": "[encoded data removed]",
            "text/plain": [
              "<Figure size 432x288 with 1 Axes>"
            ]
          },
          "metadata": {
            "tags": [],
            "needs_background": "light"
          }
        }
      ]
    },
    {
      "cell_type": "code",
      "metadata": {
        "colab": {
          "base_uri": "https://localhost:8080/",
          "height": 285
        },
        "id": "ETo_CRgMrNDD",
        "outputId": "a090960a-17a7-480e-a527-a5ac1ad3d079"
      },
      "source": [
        "# Caculating the std \r\n",
        "std_img = np.std(x,axis=0)\r\n",
        "plt.imshow(std_img)"
      ],
      "execution_count": 7,
      "outputs": [
        {
          "output_type": "execute_result",
          "data": {
            "text/plain": [
              "<matplotlib.image.AxesImage at 0x7fbc7b61b208>"
            ]
          },
          "metadata": {
            "tags": []
          },
          "execution_count": 7
        },
        {
          "output_type": "display_data",
          "data": {
            "image/png": "[encoded data removed]",
            "text/plain": [
              "<Figure size 432x288 with 1 Axes>"
            ]
          },
          "metadata": {
            "tags": [],
            "needs_background": "light"
          }
        }
      ]
    },
    {
      "cell_type": "code",
      "metadata": {
        "id": "jgjhwv3urNGG"
      },
      "source": [
        "# Normalizing the image data x\r\n",
        "x = (x-mean_img) / std_img"
      ],
      "execution_count": 8,
      "outputs": []
    },
    {
      "cell_type": "code",
      "metadata": {
        "id": "V-vsm-nHr4_5"
      },
      "source": [
        "# Splitting the data into train and validation set\r\n",
        "X_train, X_val, y_train, y_val = train_test_split(x,y,test_size=0.2, random_state = 42,stratify=y,shuffle=True)"
      ],
      "execution_count": 9,
      "outputs": []
    },
    {
      "cell_type": "code",
      "metadata": {
        "id": "pgSlski1KAdf"
      },
      "source": [
        "# Data Augumentation\r\n",
        "train_datagen = ImageDataGenerator(\r\n",
        "        rotation_range=30, \r\n",
        "        width_shift_range=0.1, \r\n",
        "        height_shift_range=0.1,\r\n",
        "        shear_range=0.2,\r\n",
        "        zoom_range=0.2,\r\n",
        "        horizontal_flip=True)\r\n",
        "train_datagen.fit(X_train)"
      ],
      "execution_count": 10,
      "outputs": []
    },
    {
      "cell_type": "code",
      "metadata": {
        "colab": {
          "base_uri": "https://localhost:8080/"
        },
        "id": "1K105FnJvGmK",
        "outputId": "36d40923-12ac-4e86-fef8-c4db9aedd80d"
      },
      "source": [
        "#Base Model\r\n",
        "import keras\r\n",
        "base_model = keras.applications.VGG16(include_top=False,weights='imagenet',input_shape=(img_size,img_size,3))\r\n",
        "add_model = Sequential()\r\n",
        "add_model.add(Flatten(input_shape=base_model.output_shape[1:]))\r\n",
        "add_model.add(Dropout(0.45))\r\n",
        "add_model.add(Dense(532,activation='relu'))\r\n",
        "add_model.add(Dropout(0.45))\r\n",
        "add_model.add(Dense(1,activation='sigmoid'))\r\n",
        "model = Model(inputs=base_model.input,outputs = add_model(base_model.output))\r\n",
        "model.compile(loss='binary_crossentropy', optimizer=optimizers.Adam(lr=1e-5), metrics=['accuracy'])\r\n",
        "model.summary()"
      ],
      "execution_count": 21,
      "outputs": [
        {
          "output_type": "stream",
          "text": [
            "Model: \"model_4\"\n",
            "__________________________________________________________________________________________________\n",
            "Layer (type)                    Output Shape         Param #     Connected to                     \n",
            "==================================================================================================\n",
            "input_5 (InputLayer)            [(None, 80, 80, 3)]  0                                            \n",
            "__________________________________________________________________________________________________\n",
            "block1_conv1 (Conv2D)           (None, 39, 39, 32)   864         input_5[0][0]                    \n",
            "__________________________________________________________________________________________________\n",
            "block1_conv1_bn (BatchNormaliza (None, 39, 39, 32)   128         block1_conv1[0][0]               \n",
            "__________________________________________________________________________________________________\n",
            "block1_conv1_act (Activation)   (None, 39, 39, 32)   0           block1_conv1_bn[0][0]            \n",
            "__________________________________________________________________________________________________\n",
            "block1_conv2 (Conv2D)           (None, 37, 37, 64)   18432       block1_conv1_act[0][0]           \n",
            "__________________________________________________________________________________________________\n",
            "block1_conv2_bn (BatchNormaliza (None, 37, 37, 64)   256         block1_conv2[0][0]               \n",
            "__________________________________________________________________________________________________\n",
            "block1_conv2_act (Activation)   (None, 37, 37, 64)   0           block1_conv2_bn[0][0]            \n",
            "__________________________________________________________________________________________________\n",
            "block2_sepconv1 (SeparableConv2 (None, 37, 37, 128)  8768        block1_conv2_act[0][0]           \n",
            "__________________________________________________________________________________________________\n",
            "block2_sepconv1_bn (BatchNormal (None, 37, 37, 128)  512         block2_sepconv1[0][0]            \n",
            "__________________________________________________________________________________________________\n",
            "block2_sepconv2_act (Activation (None, 37, 37, 128)  0           block2_sepconv1_bn[0][0]         \n",
            "__________________________________________________________________________________________________\n",
            "block2_sepconv2 (SeparableConv2 (None, 37, 37, 128)  17536       block2_sepconv2_act[0][0]        \n",
            "__________________________________________________________________________________________________\n",
            "block2_sepconv2_bn (BatchNormal (None, 37, 37, 128)  512         block2_sepconv2[0][0]            \n",
            "__________________________________________________________________________________________________\n",
            "conv2d_12 (Conv2D)              (None, 19, 19, 128)  8192        block1_conv2_act[0][0]           \n",
            "__________________________________________________________________________________________________\n",
            "block2_pool (MaxPooling2D)      (None, 19, 19, 128)  0           block2_sepconv2_bn[0][0]         \n",
            "__________________________________________________________________________________________________\n",
            "batch_normalization_12 (BatchNo (None, 19, 19, 128)  512         conv2d_12[0][0]                  \n",
            "__________________________________________________________________________________________________\n",
            "add_36 (Add)                    (None, 19, 19, 128)  0           block2_pool[0][0]                \n",
            "                                                                 batch_normalization_12[0][0]     \n",
            "__________________________________________________________________________________________________\n",
            "block3_sepconv1_act (Activation (None, 19, 19, 128)  0           add_36[0][0]                     \n",
            "__________________________________________________________________________________________________\n",
            "block3_sepconv1 (SeparableConv2 (None, 19, 19, 256)  33920       block3_sepconv1_act[0][0]        \n",
            "__________________________________________________________________________________________________\n",
            "block3_sepconv1_bn (BatchNormal (None, 19, 19, 256)  1024        block3_sepconv1[0][0]            \n",
            "__________________________________________________________________________________________________\n",
            "block3_sepconv2_act (Activation (None, 19, 19, 256)  0           block3_sepconv1_bn[0][0]         \n",
            "__________________________________________________________________________________________________\n",
            "block3_sepconv2 (SeparableConv2 (None, 19, 19, 256)  67840       block3_sepconv2_act[0][0]        \n",
            "__________________________________________________________________________________________________\n",
            "block3_sepconv2_bn (BatchNormal (None, 19, 19, 256)  1024        block3_sepconv2[0][0]            \n",
            "__________________________________________________________________________________________________\n",
            "conv2d_13 (Conv2D)              (None, 10, 10, 256)  32768       add_36[0][0]                     \n",
            "__________________________________________________________________________________________________\n",
            "block3_pool (MaxPooling2D)      (None, 10, 10, 256)  0           block3_sepconv2_bn[0][0]         \n",
            "__________________________________________________________________________________________________\n",
            "batch_normalization_13 (BatchNo (None, 10, 10, 256)  1024        conv2d_13[0][0]                  \n",
            "__________________________________________________________________________________________________\n",
            "add_37 (Add)                    (None, 10, 10, 256)  0           block3_pool[0][0]                \n",
            "                                                                 batch_normalization_13[0][0]     \n",
            "__________________________________________________________________________________________________\n",
            "block4_sepconv1_act (Activation (None, 10, 10, 256)  0           add_37[0][0]                     \n",
            "__________________________________________________________________________________________________\n",
            "block4_sepconv1 (SeparableConv2 (None, 10, 10, 728)  188672      block4_sepconv1_act[0][0]        \n",
            "__________________________________________________________________________________________________\n",
            "block4_sepconv1_bn (BatchNormal (None, 10, 10, 728)  2912        block4_sepconv1[0][0]            \n",
            "__________________________________________________________________________________________________\n",
            "block4_sepconv2_act (Activation (None, 10, 10, 728)  0           block4_sepconv1_bn[0][0]         \n",
            "__________________________________________________________________________________________________\n",
            "block4_sepconv2 (SeparableConv2 (None, 10, 10, 728)  536536      block4_sepconv2_act[0][0]        \n",
            "__________________________________________________________________________________________________\n",
            "block4_sepconv2_bn (BatchNormal (None, 10, 10, 728)  2912        block4_sepconv2[0][0]            \n",
            "__________________________________________________________________________________________________\n",
            "conv2d_14 (Conv2D)              (None, 5, 5, 728)    186368      add_37[0][0]                     \n",
            "__________________________________________________________________________________________________\n",
            "block4_pool (MaxPooling2D)      (None, 5, 5, 728)    0           block4_sepconv2_bn[0][0]         \n",
            "__________________________________________________________________________________________________\n",
            "batch_normalization_14 (BatchNo (None, 5, 5, 728)    2912        conv2d_14[0][0]                  \n",
            "__________________________________________________________________________________________________\n",
            "add_38 (Add)                    (None, 5, 5, 728)    0           block4_pool[0][0]                \n",
            "                                                                 batch_normalization_14[0][0]     \n",
            "__________________________________________________________________________________________________\n",
            "block5_sepconv1_act (Activation (None, 5, 5, 728)    0           add_38[0][0]                     \n",
            "__________________________________________________________________________________________________\n",
            "block5_sepconv1 (SeparableConv2 (None, 5, 5, 728)    536536      block5_sepconv1_act[0][0]        \n",
            "__________________________________________________________________________________________________\n",
            "block5_sepconv1_bn (BatchNormal (None, 5, 5, 728)    2912        block5_sepconv1[0][0]            \n",
            "__________________________________________________________________________________________________\n",
            "block5_sepconv2_act (Activation (None, 5, 5, 728)    0           block5_sepconv1_bn[0][0]         \n",
            "__________________________________________________________________________________________________\n",
            "block5_sepconv2 (SeparableConv2 (None, 5, 5, 728)    536536      block5_sepconv2_act[0][0]        \n",
            "__________________________________________________________________________________________________\n",
            "block5_sepconv2_bn (BatchNormal (None, 5, 5, 728)    2912        block5_sepconv2[0][0]            \n",
            "__________________________________________________________________________________________________\n",
            "block5_sepconv3_act (Activation (None, 5, 5, 728)    0           block5_sepconv2_bn[0][0]         \n",
            "__________________________________________________________________________________________________\n",
            "block5_sepconv3 (SeparableConv2 (None, 5, 5, 728)    536536      block5_sepconv3_act[0][0]        \n",
            "__________________________________________________________________________________________________\n",
            "block5_sepconv3_bn (BatchNormal (None, 5, 5, 728)    2912        block5_sepconv3[0][0]            \n",
            "__________________________________________________________________________________________________\n",
            "add_39 (Add)                    (None, 5, 5, 728)    0           block5_sepconv3_bn[0][0]         \n",
            "                                                                 add_38[0][0]                     \n",
            "__________________________________________________________________________________________________\n",
            "block6_sepconv1_act (Activation (None, 5, 5, 728)    0           add_39[0][0]                     \n",
            "__________________________________________________________________________________________________\n",
            "block6_sepconv1 (SeparableConv2 (None, 5, 5, 728)    536536      block6_sepconv1_act[0][0]        \n",
            "__________________________________________________________________________________________________\n",
            "block6_sepconv1_bn (BatchNormal (None, 5, 5, 728)    2912        block6_sepconv1[0][0]            \n",
            "__________________________________________________________________________________________________\n",
            "block6_sepconv2_act (Activation (None, 5, 5, 728)    0           block6_sepconv1_bn[0][0]         \n",
            "__________________________________________________________________________________________________\n",
            "block6_sepconv2 (SeparableConv2 (None, 5, 5, 728)    536536      block6_sepconv2_act[0][0]        \n",
            "__________________________________________________________________________________________________\n",
            "block6_sepconv2_bn (BatchNormal (None, 5, 5, 728)    2912        block6_sepconv2[0][0]            \n",
            "__________________________________________________________________________________________________\n",
            "block6_sepconv3_act (Activation (None, 5, 5, 728)    0           block6_sepconv2_bn[0][0]         \n",
            "__________________________________________________________________________________________________\n",
            "block6_sepconv3 (SeparableConv2 (None, 5, 5, 728)    536536      block6_sepconv3_act[0][0]        \n",
            "__________________________________________________________________________________________________\n",
            "block6_sepconv3_bn (BatchNormal (None, 5, 5, 728)    2912        block6_sepconv3[0][0]            \n",
            "__________________________________________________________________________________________________\n",
            "add_40 (Add)                    (None, 5, 5, 728)    0           block6_sepconv3_bn[0][0]         \n",
            "                                                                 add_39[0][0]                     \n",
            "__________________________________________________________________________________________________\n",
            "block7_sepconv1_act (Activation (None, 5, 5, 728)    0           add_40[0][0]                     \n",
            "__________________________________________________________________________________________________\n",
            "block7_sepconv1 (SeparableConv2 (None, 5, 5, 728)    536536      block7_sepconv1_act[0][0]        \n",
            "__________________________________________________________________________________________________\n",
            "block7_sepconv1_bn (BatchNormal (None, 5, 5, 728)    2912        block7_sepconv1[0][0]            \n",
            "__________________________________________________________________________________________________\n",
            "block7_sepconv2_act (Activation (None, 5, 5, 728)    0           block7_sepconv1_bn[0][0]         \n",
            "__________________________________________________________________________________________________\n",
            "block7_sepconv2 (SeparableConv2 (None, 5, 5, 728)    536536      block7_sepconv2_act[0][0]        \n",
            "__________________________________________________________________________________________________\n",
            "block7_sepconv2_bn (BatchNormal (None, 5, 5, 728)    2912        block7_sepconv2[0][0]            \n",
            "__________________________________________________________________________________________________\n",
            "block7_sepconv3_act (Activation (None, 5, 5, 728)    0           block7_sepconv2_bn[0][0]         \n",
            "__________________________________________________________________________________________________\n",
            "block7_sepconv3 (SeparableConv2 (None, 5, 5, 728)    536536      block7_sepconv3_act[0][0]        \n",
            "__________________________________________________________________________________________________\n",
            "block7_sepconv3_bn (BatchNormal (None, 5, 5, 728)    2912        block7_sepconv3[0][0]            \n",
            "__________________________________________________________________________________________________\n",
            "add_41 (Add)                    (None, 5, 5, 728)    0           block7_sepconv3_bn[0][0]         \n",
            "                                                                 add_40[0][0]                     \n",
            "__________________________________________________________________________________________________\n",
            "block8_sepconv1_act (Activation (None, 5, 5, 728)    0           add_41[0][0]                     \n",
            "__________________________________________________________________________________________________\n",
            "block8_sepconv1 (SeparableConv2 (None, 5, 5, 728)    536536      block8_sepconv1_act[0][0]        \n",
            "__________________________________________________________________________________________________\n",
            "block8_sepconv1_bn (BatchNormal (None, 5, 5, 728)    2912        block8_sepconv1[0][0]            \n",
            "__________________________________________________________________________________________________\n",
            "block8_sepconv2_act (Activation (None, 5, 5, 728)    0           block8_sepconv1_bn[0][0]         \n",
            "__________________________________________________________________________________________________\n",
            "block8_sepconv2 (SeparableConv2 (None, 5, 5, 728)    536536      block8_sepconv2_act[0][0]        \n",
            "__________________________________________________________________________________________________\n",
            "block8_sepconv2_bn (BatchNormal (None, 5, 5, 728)    2912        block8_sepconv2[0][0]            \n",
            "__________________________________________________________________________________________________\n",
            "block8_sepconv3_act (Activation (None, 5, 5, 728)    0           block8_sepconv2_bn[0][0]         \n",
            "__________________________________________________________________________________________________\n",
            "block8_sepconv3 (SeparableConv2 (None, 5, 5, 728)    536536      block8_sepconv3_act[0][0]        \n",
            "__________________________________________________________________________________________________\n",
            "block8_sepconv3_bn (BatchNormal (None, 5, 5, 728)    2912        block8_sepconv3[0][0]            \n",
            "__________________________________________________________________________________________________\n",
            "add_42 (Add)                    (None, 5, 5, 728)    0           block8_sepconv3_bn[0][0]         \n",
            "                                                                 add_41[0][0]                     \n",
            "__________________________________________________________________________________________________\n",
            "block9_sepconv1_act (Activation (None, 5, 5, 728)    0           add_42[0][0]                     \n",
            "__________________________________________________________________________________________________\n",
            "block9_sepconv1 (SeparableConv2 (None, 5, 5, 728)    536536      block9_sepconv1_act[0][0]        \n",
            "__________________________________________________________________________________________________\n",
            "block9_sepconv1_bn (BatchNormal (None, 5, 5, 728)    2912        block9_sepconv1[0][0]            \n",
            "__________________________________________________________________________________________________\n",
            "block9_sepconv2_act (Activation (None, 5, 5, 728)    0           block9_sepconv1_bn[0][0]         \n",
            "__________________________________________________________________________________________________\n",
            "block9_sepconv2 (SeparableConv2 (None, 5, 5, 728)    536536      block9_sepconv2_act[0][0]        \n",
            "__________________________________________________________________________________________________\n",
            "block9_sepconv2_bn (BatchNormal (None, 5, 5, 728)    2912        block9_sepconv2[0][0]            \n",
            "__________________________________________________________________________________________________\n",
            "block9_sepconv3_act (Activation (None, 5, 5, 728)    0           block9_sepconv2_bn[0][0]         \n",
            "__________________________________________________________________________________________________\n",
            "block9_sepconv3 (SeparableConv2 (None, 5, 5, 728)    536536      block9_sepconv3_act[0][0]        \n",
            "__________________________________________________________________________________________________\n",
            "block9_sepconv3_bn (BatchNormal (None, 5, 5, 728)    2912        block9_sepconv3[0][0]            \n",
            "__________________________________________________________________________________________________\n",
            "add_43 (Add)                    (None, 5, 5, 728)    0           block9_sepconv3_bn[0][0]         \n",
            "                                                                 add_42[0][0]                     \n",
            "__________________________________________________________________________________________________\n",
            "block10_sepconv1_act (Activatio (None, 5, 5, 728)    0           add_43[0][0]                     \n",
            "__________________________________________________________________________________________________\n",
            "block10_sepconv1 (SeparableConv (None, 5, 5, 728)    536536      block10_sepconv1_act[0][0]       \n",
            "__________________________________________________________________________________________________\n",
            "block10_sepconv1_bn (BatchNorma (None, 5, 5, 728)    2912        block10_sepconv1[0][0]           \n",
            "__________________________________________________________________________________________________\n",
            "block10_sepconv2_act (Activatio (None, 5, 5, 728)    0           block10_sepconv1_bn[0][0]        \n",
            "__________________________________________________________________________________________________\n",
            "block10_sepconv2 (SeparableConv (None, 5, 5, 728)    536536      block10_sepconv2_act[0][0]       \n",
            "__________________________________________________________________________________________________\n",
            "block10_sepconv2_bn (BatchNorma (None, 5, 5, 728)    2912        block10_sepconv2[0][0]           \n",
            "__________________________________________________________________________________________________\n",
            "block10_sepconv3_act (Activatio (None, 5, 5, 728)    0           block10_sepconv2_bn[0][0]        \n",
            "__________________________________________________________________________________________________\n",
            "block10_sepconv3 (SeparableConv (None, 5, 5, 728)    536536      block10_sepconv3_act[0][0]       \n",
            "__________________________________________________________________________________________________\n",
            "block10_sepconv3_bn (BatchNorma (None, 5, 5, 728)    2912        block10_sepconv3[0][0]           \n",
            "__________________________________________________________________________________________________\n",
            "add_44 (Add)                    (None, 5, 5, 728)    0           block10_sepconv3_bn[0][0]        \n",
            "                                                                 add_43[0][0]                     \n",
            "__________________________________________________________________________________________________\n",
            "block11_sepconv1_act (Activatio (None, 5, 5, 728)    0           add_44[0][0]                     \n",
            "__________________________________________________________________________________________________\n",
            "block11_sepconv1 (SeparableConv (None, 5, 5, 728)    536536      block11_sepconv1_act[0][0]       \n",
            "__________________________________________________________________________________________________\n",
            "block11_sepconv1_bn (BatchNorma (None, 5, 5, 728)    2912        block11_sepconv1[0][0]           \n",
            "__________________________________________________________________________________________________\n",
            "block11_sepconv2_act (Activatio (None, 5, 5, 728)    0           block11_sepconv1_bn[0][0]        \n",
            "__________________________________________________________________________________________________\n",
            "block11_sepconv2 (SeparableConv (None, 5, 5, 728)    536536      block11_sepconv2_act[0][0]       \n",
            "__________________________________________________________________________________________________\n",
            "block11_sepconv2_bn (BatchNorma (None, 5, 5, 728)    2912        block11_sepconv2[0][0]           \n",
            "__________________________________________________________________________________________________\n",
            "block11_sepconv3_act (Activatio (None, 5, 5, 728)    0           block11_sepconv2_bn[0][0]        \n",
            "__________________________________________________________________________________________________\n",
            "block11_sepconv3 (SeparableConv (None, 5, 5, 728)    536536      block11_sepconv3_act[0][0]       \n",
            "__________________________________________________________________________________________________\n",
            "block11_sepconv3_bn (BatchNorma (None, 5, 5, 728)    2912        block11_sepconv3[0][0]           \n",
            "__________________________________________________________________________________________________\n",
            "add_45 (Add)                    (None, 5, 5, 728)    0           block11_sepconv3_bn[0][0]        \n",
            "                                                                 add_44[0][0]                     \n",
            "__________________________________________________________________________________________________\n",
            "block12_sepconv1_act (Activatio (None, 5, 5, 728)    0           add_45[0][0]                     \n",
            "__________________________________________________________________________________________________\n",
            "block12_sepconv1 (SeparableConv (None, 5, 5, 728)    536536      block12_sepconv1_act[0][0]       \n",
            "__________________________________________________________________________________________________\n",
            "block12_sepconv1_bn (BatchNorma (None, 5, 5, 728)    2912        block12_sepconv1[0][0]           \n",
            "__________________________________________________________________________________________________\n",
            "block12_sepconv2_act (Activatio (None, 5, 5, 728)    0           block12_sepconv1_bn[0][0]        \n",
            "__________________________________________________________________________________________________\n",
            "block12_sepconv2 (SeparableConv (None, 5, 5, 728)    536536      block12_sepconv2_act[0][0]       \n",
            "__________________________________________________________________________________________________\n",
            "block12_sepconv2_bn (BatchNorma (None, 5, 5, 728)    2912        block12_sepconv2[0][0]           \n",
            "__________________________________________________________________________________________________\n",
            "block12_sepconv3_act (Activatio (None, 5, 5, 728)    0           block12_sepconv2_bn[0][0]        \n",
            "__________________________________________________________________________________________________\n",
            "block12_sepconv3 (SeparableConv (None, 5, 5, 728)    536536      block12_sepconv3_act[0][0]       \n",
            "__________________________________________________________________________________________________\n",
            "block12_sepconv3_bn (BatchNorma (None, 5, 5, 728)    2912        block12_sepconv3[0][0]           \n",
            "__________________________________________________________________________________________________\n",
            "add_46 (Add)                    (None, 5, 5, 728)    0           block12_sepconv3_bn[0][0]        \n",
            "                                                                 add_45[0][0]                     \n",
            "__________________________________________________________________________________________________\n",
            "block13_sepconv1_act (Activatio (None, 5, 5, 728)    0           add_46[0][0]                     \n",
            "__________________________________________________________________________________________________\n",
            "block13_sepconv1 (SeparableConv (None, 5, 5, 728)    536536      block13_sepconv1_act[0][0]       \n",
            "__________________________________________________________________________________________________\n",
            "block13_sepconv1_bn (BatchNorma (None, 5, 5, 728)    2912        block13_sepconv1[0][0]           \n",
            "__________________________________________________________________________________________________\n",
            "block13_sepconv2_act (Activatio (None, 5, 5, 728)    0           block13_sepconv1_bn[0][0]        \n",
            "__________________________________________________________________________________________________\n",
            "block13_sepconv2 (SeparableConv (None, 5, 5, 1024)   752024      block13_sepconv2_act[0][0]       \n",
            "__________________________________________________________________________________________________\n",
            "block13_sepconv2_bn (BatchNorma (None, 5, 5, 1024)   4096        block13_sepconv2[0][0]           \n",
            "__________________________________________________________________________________________________\n",
            "conv2d_15 (Conv2D)              (None, 3, 3, 1024)   745472      add_46[0][0]                     \n",
            "__________________________________________________________________________________________________\n",
            "block13_pool (MaxPooling2D)     (None, 3, 3, 1024)   0           block13_sepconv2_bn[0][0]        \n",
            "__________________________________________________________________________________________________\n",
            "batch_normalization_15 (BatchNo (None, 3, 3, 1024)   4096        conv2d_15[0][0]                  \n",
            "__________________________________________________________________________________________________\n",
            "add_47 (Add)                    (None, 3, 3, 1024)   0           block13_pool[0][0]               \n",
            "                                                                 batch_normalization_15[0][0]     \n",
            "__________________________________________________________________________________________________\n",
            "block14_sepconv1 (SeparableConv (None, 3, 3, 1536)   1582080     add_47[0][0]                     \n",
            "__________________________________________________________________________________________________\n",
            "block14_sepconv1_bn (BatchNorma (None, 3, 3, 1536)   6144        block14_sepconv1[0][0]           \n",
            "__________________________________________________________________________________________________\n",
            "block14_sepconv1_act (Activatio (None, 3, 3, 1536)   0           block14_sepconv1_bn[0][0]        \n",
            "__________________________________________________________________________________________________\n",
            "block14_sepconv2 (SeparableConv (None, 3, 3, 2048)   3159552     block14_sepconv1_act[0][0]       \n",
            "__________________________________________________________________________________________________\n",
            "block14_sepconv2_bn (BatchNorma (None, 3, 3, 2048)   8192        block14_sepconv2[0][0]           \n",
            "__________________________________________________________________________________________________\n",
            "block14_sepconv2_act (Activatio (None, 3, 3, 2048)   0           block14_sepconv2_bn[0][0]        \n",
            "__________________________________________________________________________________________________\n",
            "sequential_4 (Sequential)       (None, 1)            9806889     block14_sepconv2_act[0][0]       \n",
            "==================================================================================================\n",
            "Total params: 30,668,369\n",
            "Trainable params: 30,613,841\n",
            "Non-trainable params: 54,528\n",
            "__________________________________________________________________________________________________\n"
          ],
          "name": "stdout"
        }
      ]
    },
    {
      "cell_type": "code",
      "metadata": {
        "colab": {
          "base_uri": "https://localhost:8080/"
        },
        "id": "_dclfrCCvsd6",
        "outputId": "f7762934-e88b-444c-bef1-86b7b99c0ec5"
      },
      "source": [
        "training = model.fit(train_datagen.flow(X_train, y_train,batch_size=64),epochs=10,validation_data=(X_val,y_val),verbose=1)"
      ],
      "execution_count": 22,
      "outputs": [
        {
          "output_type": "stream",
          "text": [
            "Epoch 1/10\n",
            "359/359 [==============================] - 70s 181ms/step - loss: 0.4128 - accuracy: 0.8555 - val_loss: 0.0360 - val_accuracy: 0.9936\n",
            "Epoch 2/10\n",
            "359/359 [==============================] - 64s 177ms/step - loss: 0.0481 - accuracy: 0.9880 - val_loss: 0.0151 - val_accuracy: 0.9946\n",
            "Epoch 3/10\n",
            "359/359 [==============================] - 64s 178ms/step - loss: 0.0201 - accuracy: 0.9937 - val_loss: 0.0123 - val_accuracy: 0.9958\n",
            "Epoch 4/10\n",
            "359/359 [==============================] - 64s 179ms/step - loss: 0.0175 - accuracy: 0.9948 - val_loss: 0.0082 - val_accuracy: 0.9976\n",
            "Epoch 5/10\n",
            "359/359 [==============================] - 64s 179ms/step - loss: 0.0155 - accuracy: 0.9957 - val_loss: 0.0135 - val_accuracy: 0.9965\n",
            "Epoch 6/10\n",
            "359/359 [==============================] - 64s 178ms/step - loss: 0.0126 - accuracy: 0.9960 - val_loss: 0.0094 - val_accuracy: 0.9972\n",
            "Epoch 7/10\n",
            "359/359 [==============================] - 64s 179ms/step - loss: 0.0099 - accuracy: 0.9971 - val_loss: 0.0144 - val_accuracy: 0.9969\n",
            "Epoch 8/10\n",
            "359/359 [==============================] - 64s 178ms/step - loss: 0.0090 - accuracy: 0.9978 - val_loss: 0.0088 - val_accuracy: 0.9972\n",
            "Epoch 9/10\n",
            "359/359 [==============================] - 64s 179ms/step - loss: 0.0079 - accuracy: 0.9981 - val_loss: 0.0060 - val_accuracy: 0.9976\n",
            "Epoch 10/10\n",
            "359/359 [==============================] - 64s 179ms/step - loss: 0.0063 - accuracy: 0.9987 - val_loss: 0.0056 - val_accuracy: 0.9976\n"
          ],
          "name": "stdout"
        }
      ]
    },
    {
      "cell_type": "code",
      "metadata": {
        "id": "jVvoimXmDXo3",
        "colab": {
          "base_uri": "https://localhost:8080/"
        },
        "outputId": "6ec0d697-2331-4847-9635-c64a7a464c51"
      },
      "source": [
        "# Hyper-parameter tuning pre-trained Network\r\n",
        "from kerastuner import RandomSearch\r\n",
        "from kerastuner.engine.hyperparameters import  HyperParameters\r\n",
        "import keras\r\n",
        "base_model = keras.applications.VGG16(include_top=False,weights='imagenet',input_shape=(img_size,img_size,3))\r\n",
        "def build(hp):\r\n",
        "\r\n",
        "  add_model = Sequential()\r\n",
        "  add_model.add(Flatten(input_shape=base_model.output_shape[1:]))\r\n",
        "  add_model.add(Dropout(rate=hp.Float(\r\n",
        "                'dropout_1',\r\n",
        "                min_value=0.45,\r\n",
        "                max_value=0.55,\r\n",
        "                default=0.45,\r\n",
        "                step=0.05,)))\r\n",
        "  add_model.add(Dense(\r\n",
        "          units=hp.Int(\r\n",
        "                    'units',\r\n",
        "                    min_value=128,\r\n",
        "                    max_value=512,\r\n",
        "                    step=32,\r\n",
        "                    default=128),activation='relu'))\r\n",
        "  add_model.add(Dropout(rate=hp.Float('dropout_2',\r\n",
        "                min_value=0.45,\r\n",
        "                max_value=0.55,\r\n",
        "                default=0.45,\r\n",
        "                step=0.05)))\r\n",
        " \r\n",
        "  add_model.add(Dense(1,activation='sigmoid'))\r\n",
        "  model = Model(inputs=base_model.input,outputs = add_model(base_model.output))\r\n",
        "  model.compile(optimizer=keras.optimizers.Adam(hp.Float(\r\n",
        "                    'learning_rate',\r\n",
        "                    min_value=1e-5,\r\n",
        "                    max_value=1e-4,\r\n",
        "                    sampling='LOG',\r\n",
        "                    default=1e-5\r\n",
        "                )),\r\n",
        "                loss=keras.losses.BinaryCrossentropy(),metrics=['accuracy'])\r\n",
        "  return model\r\n",
        "\r\n",
        "SEED=1\r\n",
        "tuner_search=RandomSearch(build,objective='val_accuracy',seed=SEED,max_trials=3,directory='output',executions_per_trial=1,project_name='Cracks Classification')\r\n",
        "history = tuner_search.search(train_datagen.flow(X_train, y_train,batch_size=16),epochs=8,validation_data=(X_val,y_val),verbose=1)"
      ],
      "execution_count": null,
      "outputs": [
        {
          "output_type": "stream",
          "text": [
            "Trial 3 Complete [00h 09m 40s]\n",
            "val_accuracy: 0.9993036389350891\n",
            "\n",
            "Best val_accuracy So Far: 0.9993036389350891\n",
            "Total elapsed time: 00h 29m 21s\n",
            "INFO:tensorflow:Oracle triggered exit\n"
          ],
          "name": "stdout"
        }
      ]
    },
    {
      "cell_type": "code",
      "metadata": {
        "id": "MybmyOPY-_hN"
      },
      "source": [
        "#Selecting the best model\r\n",
        "best_model = tuner_search.get_best_models(num_models=1)[0]  #99.93% validation accuracy"
      ],
      "execution_count": null,
      "outputs": []
    },
    {
      "cell_type": "code",
      "metadata": {
        "colab": {
          "base_uri": "https://localhost:8080/",
          "height": 196
        },
        "id": "k7LtjYpKr5Lo",
        "outputId": "db42dfe5-8036-4d37-de48-a093a9916ddb"
      },
      "source": [
        "# Predict the output for testing data\r\n",
        "test_image_order = pd.read_csv(\"/content/content/concrete_cracked_images/Testing_set_concrete_crack.csv\")\r\n",
        "test_image_order.head()\r\n"
      ],
      "execution_count": null,
      "outputs": [
        {
          "output_type": "execute_result",
          "data": {
            "text/html": [
              "<div>\n",
              "<style scoped>\n",
              "    .dataframe tbody tr th:only-of-type {\n",
              "        vertical-align: middle;\n",
              "    }\n",
              "\n",
              "    .dataframe tbody tr th {\n",
              "        vertical-align: top;\n",
              "    }\n",
              "\n",
              "    .dataframe thead th {\n",
              "        text-align: right;\n",
              "    }\n",
              "</style>\n",
              "<table border=\"1\" class=\"dataframe\">\n",
              "  <thead>\n",
              "    <tr style=\"text-align: right;\">\n",
              "      <th></th>\n",
              "      <th>filename</th>\n",
              "    </tr>\n",
              "  </thead>\n",
              "  <tbody>\n",
              "    <tr>\n",
              "      <th>0</th>\n",
              "      <td>Image_1.jpg</td>\n",
              "    </tr>\n",
              "    <tr>\n",
              "      <th>1</th>\n",
              "      <td>Image_2.jpg</td>\n",
              "    </tr>\n",
              "    <tr>\n",
              "      <th>2</th>\n",
              "      <td>Image_3.jpg</td>\n",
              "    </tr>\n",
              "    <tr>\n",
              "      <th>3</th>\n",
              "      <td>Image_4.jpg</td>\n",
              "    </tr>\n",
              "    <tr>\n",
              "      <th>4</th>\n",
              "      <td>Image_5.jpg</td>\n",
              "    </tr>\n",
              "  </tbody>\n",
              "</table>\n",
              "</div>"
            ],
            "text/plain": [
              "      filename\n",
              "0  Image_1.jpg\n",
              "1  Image_2.jpg\n",
              "2  Image_3.jpg\n",
              "3  Image_4.jpg\n",
              "4  Image_5.jpg"
            ]
          },
          "metadata": {
            "tags": []
          },
          "execution_count": 9
        }
      ]
    },
    {
      "cell_type": "code",
      "metadata": {
        "id": "a-1n-Wgfr5N_"
      },
      "source": [
        "#Getting Images File Path\r\n",
        "\r\n",
        "file_paths = [[fname,'/content/content/concrete_cracked_images/test/'+fname]for fname in test_image_order['filename']]"
      ],
      "execution_count": null,
      "outputs": []
    },
    {
      "cell_type": "code",
      "metadata": {
        "colab": {
          "base_uri": "https://localhost:8080/"
        },
        "id": "--kL2sztL3eX",
        "outputId": "4cd54001-e161-400e-b5a1-ee648714ca7a"
      },
      "source": [
        "# Confirm no. of images in test folder == Testing_set_face_mask.csv\r\n",
        "\r\n",
        "if(len(test_image_order)== len(file_paths)):\r\n",
        "  print('Number of Image Names :',len(test_image_order),'matches the image path',len(file_paths))\r\n",
        "else:\r\n",
        "  print('Number of image names does not match the number of filepaths')"
      ],
      "execution_count": null,
      "outputs": [
        {
          "output_type": "stream",
          "text": [
            "Number of Image Names : 11282 matches the image path 11282\n"
          ],
          "name": "stdout"
        }
      ]
    },
    {
      "cell_type": "code",
      "metadata": {
        "colab": {
          "base_uri": "https://localhost:8080/",
          "height": 196
        },
        "id": "nY_o1Qo4L3he",
        "outputId": "eb463f63-96d1-4f1e-8946-3a8b24cfdeaf"
      },
      "source": [
        "#Converting File path to DataFrame\r\n",
        "test_images = pd.DataFrame(file_paths, columns=['filename', 'filepaths'])\r\n",
        "test_images.head()"
      ],
      "execution_count": null,
      "outputs": [
        {
          "output_type": "execute_result",
          "data": {
            "text/html": [
              "<div>\n",
              "<style scoped>\n",
              "    .dataframe tbody tr th:only-of-type {\n",
              "        vertical-align: middle;\n",
              "    }\n",
              "\n",
              "    .dataframe tbody tr th {\n",
              "        vertical-align: top;\n",
              "    }\n",
              "\n",
              "    .dataframe thead th {\n",
              "        text-align: right;\n",
              "    }\n",
              "</style>\n",
              "<table border=\"1\" class=\"dataframe\">\n",
              "  <thead>\n",
              "    <tr style=\"text-align: right;\">\n",
              "      <th></th>\n",
              "      <th>filename</th>\n",
              "      <th>filepaths</th>\n",
              "    </tr>\n",
              "  </thead>\n",
              "  <tbody>\n",
              "    <tr>\n",
              "      <th>0</th>\n",
              "      <td>Image_1.jpg</td>\n",
              "      <td>/content/content/concrete_cracked_images/test/...</td>\n",
              "    </tr>\n",
              "    <tr>\n",
              "      <th>1</th>\n",
              "      <td>Image_2.jpg</td>\n",
              "      <td>/content/content/concrete_cracked_images/test/...</td>\n",
              "    </tr>\n",
              "    <tr>\n",
              "      <th>2</th>\n",
              "      <td>Image_3.jpg</td>\n",
              "      <td>/content/content/concrete_cracked_images/test/...</td>\n",
              "    </tr>\n",
              "    <tr>\n",
              "      <th>3</th>\n",
              "      <td>Image_4.jpg</td>\n",
              "      <td>/content/content/concrete_cracked_images/test/...</td>\n",
              "    </tr>\n",
              "    <tr>\n",
              "      <th>4</th>\n",
              "      <td>Image_5.jpg</td>\n",
              "      <td>/content/content/concrete_cracked_images/test/...</td>\n",
              "    </tr>\n",
              "  </tbody>\n",
              "</table>\n",
              "</div>"
            ],
            "text/plain": [
              "      filename                                          filepaths\n",
              "0  Image_1.jpg  /content/content/concrete_cracked_images/test/...\n",
              "1  Image_2.jpg  /content/content/concrete_cracked_images/test/...\n",
              "2  Image_3.jpg  /content/content/concrete_cracked_images/test/...\n",
              "3  Image_4.jpg  /content/content/concrete_cracked_images/test/...\n",
              "4  Image_5.jpg  /content/content/concrete_cracked_images/test/..."
            ]
          },
          "metadata": {
            "tags": []
          },
          "execution_count": 12
        }
      ]
    },
    {
      "cell_type": "code",
      "metadata": {
        "colab": {
          "base_uri": "https://localhost:8080/"
        },
        "id": "B606XCNLL3kU",
        "outputId": "2c027a53-1847-4b13-dfb1-ea5ffe95ac8c"
      },
      "source": [
        "# Performing Data Preprocessing on test set\r\n",
        "\r\n",
        "test_pixel_data = []\r\n",
        "image_size = 80\r\n",
        "for i in tqdm(range(len(test_images))):\r\n",
        "  img_array = cv2.imread(test_images['filepaths'][i], cv2.IMREAD_COLOR)\r\n",
        "  new_img_array = cv2.resize(img_array, (image_size, image_size))\r\n",
        "  test_pixel_data.append(new_img_array)"
      ],
      "execution_count": null,
      "outputs": [
        {
          "output_type": "stream",
          "text": [
            "100%|██████████| 11282/11282 [00:10<00:00, 1069.12it/s]\n"
          ],
          "name": "stderr"
        }
      ]
    },
    {
      "cell_type": "code",
      "metadata": {
        "id": "PwMWqimlL3nZ"
      },
      "source": [
        "# Converting into array\r\n",
        "test_pixel_data = np.array(test_pixel_data)/255 #scaling"
      ],
      "execution_count": null,
      "outputs": []
    },
    {
      "cell_type": "code",
      "metadata": {
        "id": "qbMPTUaSc9r9"
      },
      "source": [
        "#Standardizing test data\r\n",
        "mean_img_test = np.mean(test_pixel_data,axis=0)\r\n",
        "std_img_test = np.std(test_pixel_data,axis=0)\r\n",
        "test_pixel_data = (test_pixel_data-mean_img_test) / std_img_test"
      ],
      "execution_count": null,
      "outputs": []
    },
    {
      "cell_type": "code",
      "metadata": {
        "colab": {
          "base_uri": "https://localhost:8080/"
        },
        "id": "GUXLRmB_L3qJ",
        "outputId": "e9f7c045-d38e-44d0-f824-4015ad51c657"
      },
      "source": [
        "# Making predictions on test data\r\n",
        "\r\n",
        "pred = best_model.predict(test_pixel_data)\r\n",
        "pred[0]"
      ],
      "execution_count": null,
      "outputs": [
        {
          "output_type": "execute_result",
          "data": {
            "text/plain": [
              "array([4.2750695e-08], dtype=float32)"
            ]
          },
          "metadata": {
            "tags": []
          },
          "execution_count": 39
        }
      ]
    },
    {
      "cell_type": "code",
      "metadata": {
        "id": "YYDuswodPyMF"
      },
      "source": [
        "# Converting predictions to desired format\r\n",
        "\r\n",
        "predictions =[]\r\n",
        "for value in pred:\r\n",
        "  if value <0.5:\r\n",
        "     predictions.append(\"Negative\")\r\n",
        "  else:\r\n",
        "     predictions.append(\"Positive\")\r\n"
      ],
      "execution_count": null,
      "outputs": []
    },
    {
      "cell_type": "code",
      "metadata": {
        "id": "u1LmBV2FPyO3"
      },
      "source": [
        "# Saving to Local storage Disk\r\n",
        "filename = \"submission.csv\"\r\n",
        "res = pd.DataFrame({'prediction': predictions}) \r\n",
        "res.to_csv(filename, index = False)"
      ],
      "execution_count": null,
      "outputs": []
    },
    {
      "cell_type": "code",
      "metadata": {
        "id": "5vDNZw1FPyVF"
      },
      "source": [
        ""
      ],
      "execution_count": null,
      "outputs": []
    },
    {
      "cell_type": "code",
      "metadata": {
        "id": "Sq3wXjS4PyX-"
      },
      "source": [
        ""
      ],
      "execution_count": null,
      "outputs": []
    }
  ]
}